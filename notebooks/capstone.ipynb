{
 "cells": [
  {
   "cell_type": "markdown",
   "metadata": {},
   "source": [
    "# Deep Convolutional LSTM model specification\n",
    "\n",
    "- Layer 1: input layer - Dimensions: D (number of sensors or channels) X n (number of samples)\n",
    "- for dataset 1: D=10; for dataset 2 and 3: D=12\n",
    "- Layer 2: Convolutional layer 64\n",
    "- Layer 3: Convolutional layer 64\n",
    "- Layer 4: Convolutional layer 64\n",
    "- Layer 5: Convolutional layer 64\n",
    "- Droupout\n",
    "- Layer 6: Dense layer LSTM 128\n",
    "- Dropout\n",
    "- Layer 7: Dense layer LSTM 64\n",
    "- Layer 8: Softmax layer 50 classes\n",
    "- RMSProp update rule\n",
    "- mini batch gradient descent - size=16, learning rate=0.001, decay factor=0.9\n",
    "- dropout: p=0.5\n",
    "- Test set: 0.3 (database 1) and 0.2 (databases 2 and 3)\n",
    "- Training set: 0.47 (database 1) and 0.53 (databases 2 and 3)\n",
    "- Validation set: 0.23 (database 1) and 0.27 (databases 2 and 3)"
   ]
  },
  {
   "cell_type": "markdown",
   "metadata": {},
   "source": [
    "# Importing modules"
   ]
  },
  {
   "cell_type": "code",
   "execution_count": null,
   "metadata": {
    "collapsed": false
   },
   "outputs": [],
   "source": [
    "from deepconvlstm import DeepConvLstm\n",
    "import numpy as np\n",
    "from pathlib import Path\n",
    "import logging"
   ]
  },
  {
   "cell_type": "markdown",
   "metadata": {},
   "source": [
    "# Running training"
   ]
  },
  {
   "cell_type": "code",
   "execution_count": null,
   "metadata": {
    "collapsed": false
   },
   "outputs": [],
   "source": [
    "subject = 11\n",
    "database = 'database_1'\n",
    "base_path = str(Path().resolve().parent)\n",
    "# Adding a logger to stream to stdout\n",
    "LOGGER = logging.getLogger(\"deepconvlstm\")\n",
    "HDLR = logging.StreamHandler()\n",
    "FORMATTER = logging.Formatter('%(asctime)s %(levelname)s %(message)s')\n",
    "HDLR.setFormatter(FORMATTER)\n",
    "LOGGER.addHandler(HDLR)\n",
    "LOGGER.setLevel(logging.DEBUG)\n",
    "# Instantiating the class\n",
    "dcl = DeepConvLstm(subject, database, timeback_reach=0.05, base_path=base_path, epochs=5)\n",
    "# This method prepares the data and run the training session for the subject\n",
    "dcl.run_training()"
   ]
  },
  {
   "cell_type": "markdown",
   "metadata": {},
   "source": [
    "# Loading trained weights and evaluating in a training set"
   ]
  },
  {
   "cell_type": "markdown",
   "metadata": {},
   "source": [
    "# Resuming training from a previous training session"
   ]
  },
  {
   "cell_type": "markdown",
   "metadata": {},
   "source": [
    "# Ploting the Model validation/accuracy curve for a subject"
   ]
  }
 ],
 "metadata": {
  "celltoolbar": "Raw Cell Format",
  "kernelspec": {
   "display_name": "emg_env_kernel",
   "language": "python",
   "name": "emg_env_kernel"
  },
  "language_info": {
   "codemirror_mode": {
    "name": "ipython",
    "version": 3
   },
   "file_extension": ".py",
   "mimetype": "text/x-python",
   "name": "python",
   "nbconvert_exporter": "python",
   "pygments_lexer": "ipython3",
   "version": "3.5.3"
  }
 },
 "nbformat": 4,
 "nbformat_minor": 1
}
